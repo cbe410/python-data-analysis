{
  "nbformat": 4,
  "nbformat_minor": 0,
  "metadata": {
    "colab": {
      "name": "CBE410 Python Data Analysis Intro.ipynb",
      "provenance": [],
      "collapsed_sections": []
    },
    "kernelspec": {
      "name": "python3",
      "display_name": "Python 3"
    }
  },
  "cells": [
    {
      "cell_type": "markdown",
      "metadata": {
        "id": "I8UYMVlXTaKs",
        "colab_type": "text"
      },
      "source": [
        "# **0. Pre-introduction!**"
      ]
    },
    {
      "cell_type": "code",
      "metadata": {
        "id": "53-wTYeNa-Es",
        "colab_type": "code",
        "colab": {
          "base_uri": "https://localhost:8080/",
          "height": 34
        },
        "outputId": "99e5df55-bb45-434c-817f-2ffae6b9a304"
      },
      "source": [
        "print('Hello World!')"
      ],
      "execution_count": null,
      "outputs": [
        {
          "output_type": "stream",
          "text": [
            "Hello World!\n"
          ],
          "name": "stdout"
        }
      ]
    },
    {
      "cell_type": "code",
      "metadata": {
        "id": "PmCJMgAKo-dt",
        "colab_type": "code",
        "colab": {}
      },
      "source": [
        "#from google.colab import drive\n",
        "#drive.mount('/content/drive')"
      ],
      "execution_count": null,
      "outputs": []
    },
    {
      "cell_type": "markdown",
      "metadata": {
        "id": "OrzExuILR134",
        "colab_type": "text"
      },
      "source": [
        "# **1. Introduction**"
      ]
    },
    {
      "cell_type": "markdown",
      "metadata": {
        "id": "OvmiQj9nWqb2",
        "colab_type": "text"
      },
      "source": [
        "Python is a modern and powerful programming language that simplifies the task of data analysis and visualization in a broad range of disciplines, including the physical sciences. \n",
        "\n",
        "<figure>\n",
        "<center>\n",
        "<img src='https://matplotlib.org/_images/anatomy1.png' height=\"300\">\n",
        "<img src='https://matplotlib.org/_images/sphx_glr_irregulardatagrid_001.png' height=\"300\">\n",
        "<figcaption>Anatomy of a figure and contour plot from Matplotlib</figcaption>\n",
        "</center>\n",
        "</figure>\n",
        "\n",
        "There are many elements that go into making a plot not just visually pleasing, but informative, and effective in presenting information in useful manner. Matplotlib has lots of resources and examples of high quality plots, and the code that produces them.\n",
        "\n",
        "[Anatomy of a figure](https://matplotlib.org/gallery/images_contours_and_fields/irregulardatagrid.html#sphx-glr-gallery-images-contours-and-fields-irregulardatagrid-py) and [contour plot](https://matplotlib.org/gallery/images_contours_and_fields/irregulardatagrid.html#sphx-glr-gallery-images-contours-and-fields-irregulardatagrid-py) from [Matplotlib](https://matplotlib.org)\n",
        "\n",
        "\n",
        "\n",
        "---\n",
        "\n",
        "\n",
        "The goal of this course content is to quickly introduce/re-familiarize you with the basics of data reading/writing, manipulation, and plotting in Python. Thereafter, you should use Python (or another numerical computing application of your choice, but *not* Excel!) for data manipulation and plotting for the remainder of the assignments in this course.\n",
        "\n",
        "Online resources and tutorials are plentiful for Python, and for the Jupyter Notebook/Lab. A few links to such resources are provided below.\n",
        "\n",
        "Excellent tutorials: https://www.w3schools.com/python/python_intro.asp\n",
        "\n",
        "Guide to Python: https://docs.python-guide.org/\n",
        "\n",
        "Learning Python: https://www.learnpython.org/\n",
        "\n",
        "Plotting with Matplotlib: https://matplotlib.org\n",
        "\n",
        "Python Basics: https://pythonbasics.org/\n",
        "\n",
        "Jupyter Notebook: https://jupyter.org/\n",
        "\n",
        "A brief introductory video re: Google Colab:\n",
        "https://www.youtube.com/watch?v=inN8seMm7UI"
      ]
    },
    {
      "cell_type": "markdown",
      "metadata": {
        "id": "RQOk_EbwaLgP",
        "colab_type": "text"
      },
      "source": [
        "---\n",
        "\n",
        "\n",
        "A few introductory tips about Python - it uses lists and dictionaries as its basic data structure. Indexing is from `0` as opposed to `1` in MATLAB and some other programming languages. Buyer beware!\n",
        "When we index lists, the first element in the list has index `0`. If we splice a list to call out only certain elements, using `list[start:stop]` note that this retrieves elements from `start` up to but not including `stop`. See the output of the code snippets below as an illustration. Note also that the last element in a list can be referenced as `list[-1]`, the second to last as `list[-2]` etc., up to `-n` for `n<=len(list)`. The `range(n,m)` function is useful for generating lists of sequentially occuring integers between `n` and `m`."
      ]
    },
    {
      "cell_type": "code",
      "metadata": {
        "id": "ZywYB0LwijxS",
        "colab_type": "code",
        "colab": {
          "base_uri": "https://localhost:8080/",
          "height": 221
        },
        "outputId": "12944577-b053-41ed-f3b8-cc1eadfacdfa"
      },
      "source": [
        "a = [0,1,2,3,4,5,6,7,8,9]\n",
        "b = range(0,9)\n",
        "print(a)\n",
        "for x in b:\n",
        "  print(x)\n",
        "c = [x for x in range(0,9)]\n",
        "print('Elements of list \"c\" are:',c)\n",
        "print(a[0:6])\n"
      ],
      "execution_count": null,
      "outputs": [
        {
          "output_type": "stream",
          "text": [
            "[0, 1, 2, 3, 4, 5, 6, 7, 8, 9]\n",
            "0\n",
            "1\n",
            "2\n",
            "3\n",
            "4\n",
            "5\n",
            "6\n",
            "7\n",
            "8\n",
            "Elements of list \"c\" are: [0, 1, 2, 3, 4, 5, 6, 7, 8]\n",
            "[0, 1, 2, 3, 4, 5]\n"
          ],
          "name": "stdout"
        }
      ]
    },
    {
      "cell_type": "markdown",
      "metadata": {
        "id": "q9wrA--mkP-j",
        "colab_type": "text"
      },
      "source": [
        "To find the index of an item in a list, we can use the `.index()` method."
      ]
    },
    {
      "cell_type": "code",
      "metadata": {
        "id": "GrINunSskVF2",
        "colab_type": "code",
        "colab": {
          "base_uri": "https://localhost:8080/",
          "height": 51
        },
        "outputId": "ac1502f4-7467-4d7d-8823-fc234f046f1a"
      },
      "source": [
        "a = ['Lamps',3,'Trees',7,9]\n",
        "print('The index in the list where element \"Trees\" occurs is:',a.index('Trees'))\n",
        "print('The index in the list where element \"3\" occurs is:',a.index(3))"
      ],
      "execution_count": null,
      "outputs": [
        {
          "output_type": "stream",
          "text": [
            "The index in the list where element \"Trees\" occurs is: 2\n",
            "The index in the list where element \"3\" occurs is: 1\n"
          ],
          "name": "stdout"
        }
      ]
    },
    {
      "cell_type": "markdown",
      "metadata": {
        "id": "yo54nh9TjLnJ",
        "colab_type": "text"
      },
      "source": [
        "We can create dictionaries, which you can think of as small databases:"
      ]
    },
    {
      "cell_type": "code",
      "metadata": {
        "id": "Ez1_OQlpahMy",
        "colab_type": "code",
        "colab": {
          "base_uri": "https://localhost:8080/",
          "height": 34
        },
        "outputId": "1e565ee9-4acd-4da4-9008-3fe2deb1af13"
      },
      "source": [
        "thisdict = {\n",
        "  \"brand\": \"Ford\",\n",
        "  \"model\": \"Mustang\",\n",
        "  \"year\": 1964\n",
        "}\n",
        "print(thisdict)"
      ],
      "execution_count": null,
      "outputs": [
        {
          "output_type": "stream",
          "text": [
            "{'brand': 'Ford', 'model': 'Mustang', 'year': 1964}\n"
          ],
          "name": "stdout"
        }
      ]
    },
    {
      "cell_type": "markdown",
      "metadata": {
        "id": "soIG8G-Vams8",
        "colab_type": "text"
      },
      "source": [
        "We can retrieve information from the dictionary by `key`, check the length, and assign new data:"
      ]
    },
    {
      "cell_type": "code",
      "metadata": {
        "id": "uNz_vvmhaq8e",
        "colab_type": "code",
        "colab": {
          "base_uri": "https://localhost:8080/",
          "height": 85
        },
        "outputId": "ac5154ab-0ecf-4383-d94b-45911127c47b"
      },
      "source": [
        "x = thisdict[\"model\"]\n",
        "print(x)\n",
        "y = thisdict.get(\"model\")\n",
        "print(y)\n",
        "print('The length of this dictionary is:',len(thisdict))\n",
        "thisdict[\"year\"] = [2018, 1964]\n",
        "print(thisdict)"
      ],
      "execution_count": null,
      "outputs": [
        {
          "output_type": "stream",
          "text": [
            "Mustang\n",
            "Mustang\n",
            "The length of this dictionary is: 3\n",
            "{'brand': 'Ford', 'model': 'Mustang', 'year': [2018, 1964]}\n"
          ],
          "name": "stdout"
        }
      ]
    },
    {
      "cell_type": "markdown",
      "metadata": {
        "id": "zYlspZo7bAMv",
        "colab_type": "text"
      },
      "source": [
        "We can loop through `keys` and `values` using the `items()` method:"
      ]
    },
    {
      "cell_type": "code",
      "metadata": {
        "id": "1jg1zflQbEK8",
        "colab_type": "code",
        "colab": {
          "base_uri": "https://localhost:8080/",
          "height": 68
        },
        "outputId": "a3962253-1f82-4967-b1a2-6f89c7f33e2b"
      },
      "source": [
        "for x, y in thisdict.items():\n",
        "  print(x, y)"
      ],
      "execution_count": null,
      "outputs": [
        {
          "output_type": "stream",
          "text": [
            "brand Ford\n",
            "model Mustang\n",
            "year [2018, 1964]\n"
          ],
          "name": "stdout"
        }
      ]
    },
    {
      "cell_type": "code",
      "metadata": {
        "id": "LRoDx9oGbtzM",
        "colab_type": "code",
        "colab": {
          "base_uri": "https://localhost:8080/",
          "height": 119
        },
        "outputId": "2210524c-88db-4b2a-82bf-11411de79809"
      },
      "source": [
        "for x in thisdict:\n",
        "  print(x)\n",
        "for x in thisdict:\n",
        " print(thisdict[x])"
      ],
      "execution_count": null,
      "outputs": [
        {
          "output_type": "stream",
          "text": [
            "brand\n",
            "model\n",
            "year\n",
            "Ford\n",
            "Mustang\n",
            "[2018, 1964]\n"
          ],
          "name": "stdout"
        }
      ]
    },
    {
      "cell_type": "markdown",
      "metadata": {
        "id": "IboP56clbrcz",
        "colab_type": "text"
      },
      "source": [
        "We can print all key names, as well as all values:"
      ]
    },
    {
      "cell_type": "markdown",
      "metadata": {
        "id": "VnCnV61sbZeD",
        "colab_type": "text"
      },
      "source": [
        "More examples are available [here](https://www.w3schools.com/python/python_dictionaries.asp)\n",
        "\n",
        "\n",
        "---\n"
      ]
    },
    {
      "cell_type": "markdown",
      "metadata": {
        "id": "fTxO5Lbacano",
        "colab_type": "text"
      },
      "source": [
        "#**2. Importing Data for Analysis**\n",
        "We will use Python to analyze some sample reaction data to determine an activation energy. The data is stored in an Excel file hosted in a Github repository I created for CBE410 - [cbe410/python-data-analysis](https://github.com/cbe410/python-data-analysis)\n",
        "\n",
        "Here, we will make use of the well known fact that the temperature dependence of a rate constant is related to the activation energy $E_a$ as shown in Equation $\\eqref{activation}$ below.\n",
        "\n",
        "\\begin{equation}\n",
        "  k = k_0\\exp(-E_a/RT) \\tag{1}\n",
        "\\end{equation}\n",
        "\n",
        "\n",
        "\n",
        "where $R$ is the universal gas constant, equal to $8.314 \\,\\mathrm{J.K^{-1}.mol^{-1}}$. The linearized version of the above equation is\n",
        "\n",
        "\\begin{equation}\n",
        " \\ln\\,k = \\ln\\, k_0 -\\frac{E_a}{RT} \\tag{2}\n",
        "\\end{equation}\n"
      ]
    },
    {
      "cell_type": "markdown",
      "metadata": {
        "id": "a4tLFEo0X2lJ",
        "colab_type": "text"
      },
      "source": [
        "First, we will need to read in our data. A lot of the raw data for experiments in this class are output in Excel sheets. They may be formatted as regular ascii data, `.csv` files, or full-fledged `.xlsx` files. We have a variety of tools at our disposal for reading in the data. Here to make life simple (?) we will use [Pandas](https://pandas.pydata.org/), a versatile tool (library) for data analysis and manipulation built on top of Python. Here, we will just use it to read in data! Very simple."
      ]
    },
    {
      "cell_type": "code",
      "metadata": {
        "id": "1dgiI9F0cRpc",
        "colab_type": "code",
        "colab": {}
      },
      "source": [
        "import pandas as pd"
      ],
      "execution_count": null,
      "outputs": []
    },
    {
      "cell_type": "code",
      "metadata": {
        "id": "AXcciLH1dww6",
        "colab_type": "code",
        "colab": {}
      },
      "source": [
        "column_names = [\"T\",\"k\",\"Ea\"]\n",
        "data_excel_path = \"https://github.com/cbe410/python-data-analysis/raw/master/SampleData.xlsx\"\n",
        "rxn_data = pd.read_excel(data_excel_path, sheet_name=\"ReactionData\", names=column_names,header=None)"
      ],
      "execution_count": null,
      "outputs": []
    },
    {
      "cell_type": "markdown",
      "metadata": {
        "id": "vvV55XeFfo7E",
        "colab_type": "text"
      },
      "source": [
        "Alternatively, we could read in a dictionary"
      ]
    },
    {
      "cell_type": "code",
      "metadata": {
        "id": "wsEpu9HLfrdK",
        "colab_type": "code",
        "colab": {}
      },
      "source": [
        "sheets = [\"ReactionData\"]\n",
        "data_dict = pd.read_excel(data_excel_path,sheets,header=None,names=column_names)"
      ],
      "execution_count": null,
      "outputs": []
    },
    {
      "cell_type": "code",
      "metadata": {
        "id": "qfN1Udobf4AW",
        "colab_type": "code",
        "colab": {
          "base_uri": "https://localhost:8080/",
          "height": 136
        },
        "outputId": "0f91bd5b-6e4a-4127-8256-6153cfbc0015"
      },
      "source": [
        "data_dict"
      ],
      "execution_count": null,
      "outputs": [
        {
          "output_type": "execute_result",
          "data": {
            "text/plain": [
              "{'ReactionData':              T            k          Ea\n",
              " 0  Temperature            k  Ea(kj/mol)\n",
              " 1          340  5.07085e-06       71.45\n",
              " 2          360  9.40194e-06         NaN\n",
              " 3          380  1.32791e-05         NaN\n",
              " 4          400  1.79617e-05         NaN\n",
              " 5          420  2.75748e-05         NaN}"
            ]
          },
          "metadata": {
            "tags": []
          },
          "execution_count": 330
        }
      ]
    },
    {
      "cell_type": "code",
      "metadata": {
        "id": "NrCpbncfgFd9",
        "colab_type": "code",
        "colab": {
          "base_uri": "https://localhost:8080/",
          "height": 235
        },
        "outputId": "1b57cd91-1d0c-4a75-f573-d2d3cde07c94"
      },
      "source": [
        "rxn_data"
      ],
      "execution_count": null,
      "outputs": [
        {
          "output_type": "execute_result",
          "data": {
            "text/html": [
              "<div>\n",
              "<style scoped>\n",
              "    .dataframe tbody tr th:only-of-type {\n",
              "        vertical-align: middle;\n",
              "    }\n",
              "\n",
              "    .dataframe tbody tr th {\n",
              "        vertical-align: top;\n",
              "    }\n",
              "\n",
              "    .dataframe thead th {\n",
              "        text-align: right;\n",
              "    }\n",
              "</style>\n",
              "<table border=\"1\" class=\"dataframe\">\n",
              "  <thead>\n",
              "    <tr style=\"text-align: right;\">\n",
              "      <th></th>\n",
              "      <th>T</th>\n",
              "      <th>k</th>\n",
              "      <th>Ea</th>\n",
              "    </tr>\n",
              "  </thead>\n",
              "  <tbody>\n",
              "    <tr>\n",
              "      <th>0</th>\n",
              "      <td>Temperature</td>\n",
              "      <td>k</td>\n",
              "      <td>Ea(kj/mol)</td>\n",
              "    </tr>\n",
              "    <tr>\n",
              "      <th>1</th>\n",
              "      <td>340</td>\n",
              "      <td>5.07085e-06</td>\n",
              "      <td>71.45</td>\n",
              "    </tr>\n",
              "    <tr>\n",
              "      <th>2</th>\n",
              "      <td>360</td>\n",
              "      <td>9.40194e-06</td>\n",
              "      <td>NaN</td>\n",
              "    </tr>\n",
              "    <tr>\n",
              "      <th>3</th>\n",
              "      <td>380</td>\n",
              "      <td>1.32791e-05</td>\n",
              "      <td>NaN</td>\n",
              "    </tr>\n",
              "    <tr>\n",
              "      <th>4</th>\n",
              "      <td>400</td>\n",
              "      <td>1.79617e-05</td>\n",
              "      <td>NaN</td>\n",
              "    </tr>\n",
              "    <tr>\n",
              "      <th>5</th>\n",
              "      <td>420</td>\n",
              "      <td>2.75748e-05</td>\n",
              "      <td>NaN</td>\n",
              "    </tr>\n",
              "  </tbody>\n",
              "</table>\n",
              "</div>"
            ],
            "text/plain": [
              "             T            k          Ea\n",
              "0  Temperature            k  Ea(kj/mol)\n",
              "1          340  5.07085e-06       71.45\n",
              "2          360  9.40194e-06         NaN\n",
              "3          380  1.32791e-05         NaN\n",
              "4          400  1.79617e-05         NaN\n",
              "5          420  2.75748e-05         NaN"
            ]
          },
          "metadata": {
            "tags": []
          },
          "execution_count": 331
        }
      ]
    },
    {
      "cell_type": "markdown",
      "metadata": {
        "id": "LTOzyeZZosIh",
        "colab_type": "text"
      },
      "source": [
        "We can create a list of values from the structure created by our read operation:"
      ]
    },
    {
      "cell_type": "code",
      "metadata": {
        "id": "OAu5MvBBoxy5",
        "colab_type": "code",
        "colab": {
          "base_uri": "https://localhost:8080/",
          "height": 34
        },
        "outputId": "a82bbf70-de68-4b26-cf3a-6b0b7e69ab9b"
      },
      "source": [
        "print(rxn_data[\"T\"].values.tolist())"
      ],
      "execution_count": null,
      "outputs": [
        {
          "output_type": "stream",
          "text": [
            "['Temperature', 340, 360, 380, 400, 420]\n"
          ],
          "name": "stdout"
        }
      ]
    },
    {
      "cell_type": "code",
      "metadata": {
        "id": "EeQfTQaUgH8k",
        "colab_type": "code",
        "colab": {
          "base_uri": "https://localhost:8080/",
          "height": 34
        },
        "outputId": "7120bc63-dc81-4042-a125-6069c870fd06"
      },
      "source": [
        "print(data_dict.keys())"
      ],
      "execution_count": null,
      "outputs": [
        {
          "output_type": "stream",
          "text": [
            "dict_keys(['ReactionData'])\n"
          ],
          "name": "stdout"
        }
      ]
    },
    {
      "cell_type": "code",
      "metadata": {
        "id": "8Wt5jCmYgbv8",
        "colab_type": "code",
        "colab": {}
      },
      "source": [
        "Temperature = pd.read_excel(data_excel_path, sheet_name=\"ReactionData\", names=column_names[0],header=None)\n",
        "Rates = pd.read_excel(data_excel_path, sheet_name=\"ReactionData\", names=column_names[1],header=None)"
      ],
      "execution_count": null,
      "outputs": []
    },
    {
      "cell_type": "code",
      "metadata": {
        "id": "cZMRDMuDguKs",
        "colab_type": "code",
        "colab": {}
      },
      "source": [
        ""
      ],
      "execution_count": null,
      "outputs": []
    },
    {
      "cell_type": "code",
      "metadata": {
        "id": "45CCgk71g2n7",
        "colab_type": "code",
        "colab": {}
      },
      "source": [
        "T = data_dict[\"ReactionData\"][\"T\"]\n",
        "k = data_dict[\"ReactionData\"][\"k\"]"
      ],
      "execution_count": null,
      "outputs": []
    },
    {
      "cell_type": "code",
      "metadata": {
        "id": "4tES-RcGha4S",
        "colab_type": "code",
        "colab": {
          "base_uri": "https://localhost:8080/",
          "height": 136
        },
        "outputId": "f137e821-f020-4180-8e3b-d0200dacbbb8"
      },
      "source": [
        "T[::]"
      ],
      "execution_count": null,
      "outputs": [
        {
          "output_type": "execute_result",
          "data": {
            "text/plain": [
              "0    Temperature\n",
              "1            340\n",
              "2            360\n",
              "3            380\n",
              "4            400\n",
              "5            420\n",
              "Name: T, dtype: object"
            ]
          },
          "metadata": {
            "tags": []
          },
          "execution_count": 336
        }
      ]
    },
    {
      "cell_type": "markdown",
      "metadata": {
        "id": "llNarWHccX6b",
        "colab_type": "text"
      },
      "source": [
        "We need to strip out the first (i.e. element `0`) entry, as the Excel sheet had the name of the data in the first row."
      ]
    },
    {
      "cell_type": "code",
      "metadata": {
        "id": "yRvKdMgbhxMx",
        "colab_type": "code",
        "colab": {}
      },
      "source": [
        "T = T[1::]"
      ],
      "execution_count": null,
      "outputs": []
    },
    {
      "cell_type": "code",
      "metadata": {
        "id": "GMlHL0TniPg2",
        "colab_type": "code",
        "colab": {
          "base_uri": "https://localhost:8080/",
          "height": 119
        },
        "outputId": "8f098a69-ee13-4e0a-fbeb-0c6e1a1dc03a"
      },
      "source": [
        "T"
      ],
      "execution_count": null,
      "outputs": [
        {
          "output_type": "execute_result",
          "data": {
            "text/plain": [
              "1    340\n",
              "2    360\n",
              "3    380\n",
              "4    400\n",
              "5    420\n",
              "Name: T, dtype: object"
            ]
          },
          "metadata": {
            "tags": []
          },
          "execution_count": 338
        }
      ]
    },
    {
      "cell_type": "code",
      "metadata": {
        "id": "YT4Q4yP-iP6B",
        "colab_type": "code",
        "colab": {}
      },
      "source": [
        "k=k[1::]"
      ],
      "execution_count": null,
      "outputs": []
    },
    {
      "cell_type": "code",
      "metadata": {
        "id": "OqioEvENiYfo",
        "colab_type": "code",
        "colab": {
          "base_uri": "https://localhost:8080/",
          "height": 119
        },
        "outputId": "905ee1de-5844-4f70-a98b-73c9d8f5b651"
      },
      "source": [
        "k"
      ],
      "execution_count": null,
      "outputs": [
        {
          "output_type": "execute_result",
          "data": {
            "text/plain": [
              "1    5.07085e-06\n",
              "2    9.40194e-06\n",
              "3    1.32791e-05\n",
              "4    1.79617e-05\n",
              "5    2.75748e-05\n",
              "Name: k, dtype: object"
            ]
          },
          "metadata": {
            "tags": []
          },
          "execution_count": 340
        }
      ]
    },
    {
      "cell_type": "code",
      "metadata": {
        "id": "Lu9QlR2yiY9A",
        "colab_type": "code",
        "colab": {
          "base_uri": "https://localhost:8080/",
          "height": 119
        },
        "outputId": "a7a0b668-4894-40ca-d3f7-b5d8c475f83c"
      },
      "source": [
        "k*5"
      ],
      "execution_count": null,
      "outputs": [
        {
          "output_type": "execute_result",
          "data": {
            "text/plain": [
              "1    2.53543e-05\n",
              "2    4.70097e-05\n",
              "3    6.63954e-05\n",
              "4    8.98085e-05\n",
              "5    0.000137874\n",
              "Name: k, dtype: object"
            ]
          },
          "metadata": {
            "tags": []
          },
          "execution_count": 341
        }
      ]
    },
    {
      "cell_type": "markdown",
      "metadata": {
        "id": "EsbA879pjLrD",
        "colab_type": "text"
      },
      "source": [
        "Data Frames and Lists"
      ]
    },
    {
      "cell_type": "code",
      "metadata": {
        "id": "WrQ-2qIPidZf",
        "colab_type": "code",
        "colab": {
          "base_uri": "https://localhost:8080/",
          "height": 34
        },
        "outputId": "c82cf989-b28c-425a-c5d5-d80db447a193"
      },
      "source": [
        "products = {'Product': ['Tablet','iPhone','Laptop','Monitor'],\n",
        "            'Price': [250,800,1200,300]\n",
        "            }\n",
        "\n",
        "df = pd.DataFrame(products, columns= ['Product', 'Price'])\n",
        "\n",
        "product = df['Product'].values.tolist()\n",
        "print (product)"
      ],
      "execution_count": null,
      "outputs": [
        {
          "output_type": "stream",
          "text": [
            "['Tablet', 'iPhone', 'Laptop', 'Monitor']\n"
          ],
          "name": "stdout"
        }
      ]
    },
    {
      "cell_type": "code",
      "metadata": {
        "id": "MsAsD38QjO4W",
        "colab_type": "code",
        "colab": {}
      },
      "source": [
        "T=T.values.tolist()"
      ],
      "execution_count": null,
      "outputs": []
    },
    {
      "cell_type": "code",
      "metadata": {
        "id": "UVAwqto3jYKV",
        "colab_type": "code",
        "colab": {
          "base_uri": "https://localhost:8080/",
          "height": 34
        },
        "outputId": "c0dd99e6-774e-431c-a152-92fd4e18097e"
      },
      "source": [
        "T"
      ],
      "execution_count": null,
      "outputs": [
        {
          "output_type": "execute_result",
          "data": {
            "text/plain": [
              "[340, 360, 380, 400, 420]"
            ]
          },
          "metadata": {
            "tags": []
          },
          "execution_count": 344
        }
      ]
    },
    {
      "cell_type": "code",
      "metadata": {
        "id": "_KmDa65VjYh0",
        "colab_type": "code",
        "colab": {}
      },
      "source": [
        "k=k.values.tolist()"
      ],
      "execution_count": null,
      "outputs": []
    },
    {
      "cell_type": "code",
      "metadata": {
        "id": "gOuZqwbPjaQt",
        "colab_type": "code",
        "colab": {
          "base_uri": "https://localhost:8080/",
          "height": 102
        },
        "outputId": "9b4ebf60-6e87-4a90-b5f2-adbdd8c1b6ba"
      },
      "source": [
        "k"
      ],
      "execution_count": null,
      "outputs": [
        {
          "output_type": "execute_result",
          "data": {
            "text/plain": [
              "[5.070850274620396e-06,\n",
              " 9.401939100047988e-06,\n",
              " 1.327907504729011e-05,\n",
              " 1.7961692172790197e-05,\n",
              " 2.7574811418482278e-05]"
            ]
          },
          "metadata": {
            "tags": []
          },
          "execution_count": 346
        }
      ]
    },
    {
      "cell_type": "markdown",
      "metadata": {
        "id": "3Tc2ADXe5iTn",
        "colab_type": "text"
      },
      "source": [
        "---"
      ]
    },
    {
      "cell_type": "markdown",
      "metadata": {
        "id": "QW0ou3yR6FLB",
        "colab_type": "text"
      },
      "source": [
        "#**3. Plotting**\n",
        "\n",
        "\n",
        "Okay - let's plot our data and see what it looks like, as $k(T)$ and then also \n",
        "as $\\ln k(1/T)$. We will need to perform some simple maniulations of our data, for which `numpy` is far better suited, as described below. So we will import numpy. We will also need to import libraries for plotting."
      ]
    },
    {
      "cell_type": "code",
      "metadata": {
        "id": "d11rvChOZb-_",
        "colab_type": "code",
        "colab": {
          "base_uri": "https://localhost:8080/",
          "height": 51
        },
        "outputId": "a8db6c1b-c50f-4306-d171-a2fb8cba6fa7"
      },
      "source": [
        "import numpy  as np\n",
        "import matplotlib.pyplot as plt\n",
        "np.array(T)\n",
        "np.array(k)"
      ],
      "execution_count": null,
      "outputs": [
        {
          "output_type": "execute_result",
          "data": {
            "text/plain": [
              "array([5.07085027e-06, 9.40193910e-06, 1.32790750e-05, 1.79616922e-05,\n",
              "       2.75748114e-05])"
            ]
          },
          "metadata": {
            "tags": []
          },
          "execution_count": 347
        }
      ]
    },
    {
      "cell_type": "code",
      "metadata": {
        "id": "FUSCxttT6OUm",
        "colab_type": "code",
        "colab": {
          "base_uri": "https://localhost:8080/",
          "height": 300
        },
        "outputId": "fc70f5f5-d3f4-4721-d0cd-2a85ee1c2d2f"
      },
      "source": [
        "#from pylab import *\n",
        "sample_name = 'CH4'\n",
        "fig1 = plt.figure(1)\n",
        "plt.title('Reaction data for '+sample_name) \n",
        "plt.xlabel('Temperature ($^{\\circ}$C)',FontSize=14,FontWeight='bold') \n",
        "plt.ylabel('$k$',FontSize=14,FontWeight='bold')\n",
        "plt.plot(np.array(T), np.array(k), marker=\"o\",color=\"r\",linestyle='--',label=sample_name)\n",
        "plt.grid\n",
        "plt.savefig(\"reaction_data_plot.png\")\n",
        "plt.tick_params('x',direction='in', length=4, width=1, colors='k',grid_color='r', grid_alpha=0.5)\n",
        "plt.tick_params('y',direction='in', length=4, width=1, colors='k',grid_color='r', grid_alpha=0.5)\n",
        "#plt.legend([sample_name],loc=\"upper left\")\n",
        "plt.legend(loc=\"upper left\")\n",
        "plt.ylim(5E-6,3E-5)\n",
        "plt.xlim(335,425)\n",
        "plt.show()"
      ],
      "execution_count": null,
      "outputs": [
        {
          "output_type": "display_data",
          "data": {
            "image/png": "[encoded data removed]",
            "text/plain": [
              "<Figure size 432x288 with 1 Axes>"
            ]
          },
          "metadata": {
            "tags": [],
            "needs_background": "light"
          }
        }
      ]
    },
    {
      "cell_type": "markdown",
      "metadata": {
        "id": "QfzlOSuJBqOV",
        "colab_type": "text"
      },
      "source": [
        "Not too shabby. How about now we look at $ln \\,k$ vs $1/T$ on a linear scale:"
      ]
    },
    {
      "cell_type": "code",
      "metadata": {
        "id": "rFtrMEEnjaqO",
        "colab_type": "code",
        "colab": {
          "base_uri": "https://localhost:8080/",
          "height": 290
        },
        "outputId": "34734f41-a8ec-4d23-eb39-48a94b953c7d"
      },
      "source": [
        "fig2 = plt.figure(2)\n",
        "plt.axes(xscale='linear',yscale='linear')\n",
        "plt.plot(1/(np.array(T)+273.15), np.array(np.log(k)),marker=\"s\",color=\"b\",linestyle='--',label=sample_name)\n",
        "plt.xlabel('1/T ($K^{-1}$)',FontSize=14,FontWeight='bold') \n",
        "plt.ylabel('$\\ln k$',FontSize=14,FontWeight='bold')\n",
        "plt.legend(loc=\"upper left\")\n",
        "plt.show()"
      ],
      "execution_count": null,
      "outputs": [
        {
          "output_type": "display_data",
          "data": {
            "image/png": "[encoded data removed]",
            "text/plain": [
              "<Figure size 432x288 with 1 Axes>"
            ]
          },
          "metadata": {
            "tags": [],
            "needs_background": "light"
          }
        }
      ]
    },
    {
      "cell_type": "markdown",
      "metadata": {
        "id": "NIvDdMPzB6hS",
        "colab_type": "text"
      },
      "source": [
        "And finally, on a set of semilog axes. If we had a second data set to include, we could do so easily. I'll throw in some additonal data, just to show the syntax. For this purpose, I'll use a random number generator to scramble the rate data. This will also give us a chance to look at a simple `for` loop and the `.append` function. ***Take note of the indentation in Python! Loops and control functions must be properly indented, else you will get errors. Jupyter Notebooks provide automatic indentation, but care is still needed!***"
      ]
    },
    {
      "cell_type": "code",
      "metadata": {
        "id": "ofEvEIE0Dkzp",
        "colab_type": "code",
        "colab": {
          "base_uri": "https://localhost:8080/",
          "height": 34
        },
        "outputId": "3f12c0c3-c7b1-4556-f4f3-740efbf62ee9"
      },
      "source": [
        "import random #Generate a list of random numbers equal in length to the number of elements in k\n",
        "randomlist = []\n",
        "for i in range(0,len(k)):\n",
        "  randomlist.append(random.random())\n",
        "print('The random list is:',randomlist)"
      ],
      "execution_count": null,
      "outputs": [
        {
          "output_type": "stream",
          "text": [
            "The random list is: [0.8596430870887197, 0.5761793136570642, 0.7114906760237711, 0.25295038624625943, 0.8959477162147573]\n"
          ],
          "name": "stdout"
        }
      ]
    },
    {
      "cell_type": "markdown",
      "metadata": {
        "id": "Vlk1a_CTF1LE",
        "colab_type": "text"
      },
      "source": [
        "Let's look a bit closer at the `range()` function - you may find yourself using it at some points!"
      ]
    },
    {
      "cell_type": "code",
      "metadata": {
        "id": "r0EryulfF7iC",
        "colab_type": "code",
        "colab": {
          "base_uri": "https://localhost:8080/",
          "height": 102
        },
        "outputId": "81233465-ea0a-413d-8f4d-159fec6695c7"
      },
      "source": [
        "t=range(0,5)\n",
        "for x in t:\n",
        "  print(x)"
      ],
      "execution_count": null,
      "outputs": [
        {
          "output_type": "stream",
          "text": [
            "0\n",
            "1\n",
            "2\n",
            "3\n",
            "4\n"
          ],
          "name": "stdout"
        }
      ]
    },
    {
      "cell_type": "markdown",
      "metadata": {
        "id": "nynDdrbeYp4f",
        "colab_type": "text"
      },
      "source": [
        "Okay - let's also put a bit of effort into improving the appearance of our plots! Tick mark directions, labels, etc all matter. Log-scale axes often present problems."
      ]
    },
    {
      "cell_type": "code",
      "metadata": {
        "id": "6GpkQp0XCACZ",
        "colab_type": "code",
        "colab": {
          "base_uri": "https://localhost:8080/",
          "height": 469
        },
        "outputId": "1fe7a9b0-9d61-4e1a-ff99-08dc22dfeb24"
      },
      "source": [
        "fig3, ax3 = plt.subplots(num=3,figsize=(8,5),dpi=100, facecolor='w', edgecolor='k')\n",
        "#ax3.patch.set_facecolor('#ababab')\n",
        "ax3.patch.set_facecolor('#dfdfdf')\n",
        "ax3.patch.set_alpha(0.5)\n",
        "# If we don't specify the edgecolor and facecolor for the figure when\n",
        "# saving with savefig, it will override the value we set earlier!\n",
        "#fig.savefig('file.png', facecolor=fig.get_facecolor(), edgecolor='none')\n",
        "#ax3 = plt.gca()\n",
        "ax3.semilogy(1/(np.array(T)+273.15),np.array(k),marker=\"o\",markerfacecolor=\"g\",markeredgecolor='k',markersize=8,markeredgewidth=0.8,\\\n",
        "             linestyle='--',color='g',linewidth=1,label=sample_name)\n",
        "ax3.semilogy(1/(np.array(T)+273.15),np.array(k)*np.array(randomlist),marker=\"o\",markerfacecolor=\"r\",markeredgecolor='k',markersize=8,markeredgewidth=0.8,\\\n",
        "             linestyle='--',color='k',linewidth=1,label='Randomized')\n",
        "yvalues = np.concatenate((np.array(k),np.array(k)*np.array(randomlist)),0)\n",
        "tick_array = np.logspace(np.log10(np.amin(yvalues)),np.log10(np.amax(yvalues)),5)\n",
        "tick_array = np.round(tick_array,decimals=7)\n",
        "tick_list = tick_array.tolist()\n",
        "#plt.yticks(tick_list,tick_list)\n",
        "#ax3.yaxis.grid(True,which='major')\n",
        "ax3.tick_params(direction='in',labelcolor='b', labelsize='small', width=1, which='both')\n",
        "#ax3.xaxis.set_tick_params(direction='in', which='both') #For setting tick direction in for major and minor ticks on x-axis only\n",
        "#ax3.grid(True, color='k',linestyle='-.',linewidth=0.5)\n",
        "ax3.set_xlabel('1/T ($K^{-1}$)',FontSize=14,FontWeight='bold') \n",
        "ax3.set_ylabel('$k$',FontSize=14,FontWeight='bold')\n",
        "ax3.legend(loc=\"best\")\n",
        "ax3.ticklabel_format(axis='x',style='scientific',scilimits=(0,0),useMathText=True)\n",
        "ax3.set_xlim(1.4E-3,1.7E-3)\n",
        "ax3.set_ylim(1E-7,1E-4)\n",
        "plt.show()"
      ],
      "execution_count": null,
      "outputs": [
        {
          "output_type": "display_data",
          "data": {
            "image/png": "[encoded data removed]",
            "text/plain": [
              "<Figure size 800x500 with 1 Axes>"
            ]
          },
          "metadata": {
            "tags": []
          }
        }
      ]
    },
    {
      "cell_type": "markdown",
      "metadata": {
        "id": "j7I1tIv-54it",
        "colab_type": "text"
      },
      "source": [
        "---"
      ]
    },
    {
      "cell_type": "markdown",
      "metadata": {
        "id": "fDh_SfajGhh1",
        "colab_type": "text"
      },
      "source": [
        "#**4. Embedding Images**\n",
        "I previously saved my first plot as a `.png` file. Let's see if I can pull it up to display here, along with a sample image from GitHub! The file `reaction_data_plot.png` should appear in my list of Files in the pane on the left. Click to expand if needed. I can make a hyperlink to the file, which when clicked, will show the image in a new pane on the right. To do this, you can embed the file location, in this case,\n",
        "```\n",
        "/content/reaction_data_plot.png\n",
        "```\n",
        "in the text, and when rendered, it will create a link, i.e.: /content/reaction_data_plot.png\n",
        "There are more elegant ways to display images however. You can create a hyperlink by getting the URL of the image, or a shareable link for a file in Google Drive. Alternatively, you can also display images inline using `!` before the image location. Here's an effort to do that, with a picture of a Penn Engineering cap hosted on Github.\n",
        "\n",
        "![PennEngineering_cap](https://github.com/cbe410/python-data-analysis/blob/master/PennEngineering_cap.jpg?raw=true)\n",
        "\n",
        "\n",
        "\n",
        "This feature is a bit tricky to use. Refer to [Google Colab documentation](https://research.google.com/colaboratory/faq.html) for more info. This Medium article [here](https://medium.com/analytics-vidhya/embedding-your-image-in-google-colab-markdown-3998d5ac2684) also has some info, and maybe the trick to doing it properly! Below, instead of using the markdown of Colab, I used standard `HTML` to insert an image.\n",
        "\n",
        "<figure>\n",
        "<center>\n",
        "<img src='https://www.aiche.org/sites/default/files/images/courses/ELA113_Distillation%20Technology_for_Operators_ssk_60046637.jpg' height=\"300\">\n",
        "<figcaption>From AIChE - https://www.aiche.org/academy/courses/ela113/distillation-technology-operators</figcaption>\n",
        "</center>\n",
        "</figure>\n",
        "\n",
        "\n",
        "\n"
      ]
    },
    {
      "cell_type": "markdown",
      "metadata": {
        "id": "cxQJ0OCaqoye",
        "colab_type": "text"
      },
      "source": [
        "# **5. Determining Slopes**\n",
        "\n",
        "Okay. Now we will use Numpy to determine the gradient of $\\ln k$ as a function of inverse temperature, $1/T$, in units of $K^{-1}$. We can accomplish this quite rapidly, but first, let's define $R$ as a variable, and give it a value:"
      ]
    },
    {
      "cell_type": "code",
      "metadata": {
        "id": "LHSywzS2nUUc",
        "colab_type": "code",
        "colab": {}
      },
      "source": [
        "R = 8.314"
      ],
      "execution_count": null,
      "outputs": []
    },
    {
      "cell_type": "markdown",
      "metadata": {
        "id": "tCIFuFpusIrj",
        "colab_type": "text"
      },
      "source": [
        "There are several ways to determine the slope of a line drawn through points. The simplest way recognized that the best fit slope, $m$ for datasets $x$ and $y$ is given by Equation \\eqref{slope}  below. This will also give us an opportunity to introduce the concept of functions in Python, which may become useful to you later on!"
      ]
    },
    {
      "cell_type": "markdown",
      "metadata": {
        "id": "_FgKUZDUsupj",
        "colab_type": "text"
      },
      "source": [
        "\\begin{equation}\n",
        " m = \\frac{\\sum_{i=1}^n (x_i-\\bar{x})(y_i-\\bar{y})}{\\sum_{i=n}^n(x_i - \\bar{x})^2} = \\frac{\\sum_{i=1}^n (x_i-\\bar{x})(y_i-\\bar{y})}{\\bar{x}^2 - \\bar{x^2}} \\tag{2}\n",
        "\\end{equation}"
      ]
    },
    {
      "cell_type": "markdown",
      "metadata": {
        "id": "10Q2wFFJu4xt",
        "colab_type": "text"
      },
      "source": [
        "So, this is just `((X*Y).mean() - X.mean()*Y.mean) / ((X**2).mean() - (X.mean())**2)`"
      ]
    },
    {
      "cell_type": "markdown",
      "metadata": {
        "id": "oSiWMNGqvSYz",
        "colab_type": "text"
      },
      "source": [
        "Let's calculate it in a single line. Basic python is not really built for math. Performing element by element multiplication between lists is a bit obtuse:"
      ]
    },
    {
      "cell_type": "code",
      "metadata": {
        "id": "7Ph0e8cJvu5l",
        "colab_type": "code",
        "colab": {
          "base_uri": "https://localhost:8080/",
          "height": 34
        },
        "outputId": "130acfb8-543e-4608-c1f0-2f164f81702f"
      },
      "source": [
        "a=[1,2,3,4]\n",
        "b=[2,4,6,8]\n",
        "product = [a[i]*b[i] for i in range(len(a))]\n",
        "product"
      ],
      "execution_count": null,
      "outputs": [
        {
          "output_type": "execute_result",
          "data": {
            "text/plain": [
              "[2, 8, 18, 32]"
            ]
          },
          "metadata": {
            "tags": []
          },
          "execution_count": 354
        }
      ]
    },
    {
      "cell_type": "markdown",
      "metadata": {
        "id": "pydSIgbTw_qJ",
        "colab_type": "text"
      },
      "source": [
        "Likewise, adding lists, or adding a number to all elements of a list requires a Pythonic approach!"
      ]
    },
    {
      "cell_type": "code",
      "metadata": {
        "id": "PI2FE1bOxF2h",
        "colab_type": "code",
        "colab": {
          "base_uri": "https://localhost:8080/",
          "height": 34
        },
        "outputId": "2cb9e57a-0e85-4c44-9dfa-8ca87daa5136"
      },
      "source": [
        "sum = [x + 4 for x in a]\n",
        "print('The result of adding 4 to each element in a is:',sum)"
      ],
      "execution_count": null,
      "outputs": [
        {
          "output_type": "stream",
          "text": [
            "The result of adding 4 to each element in a is: [5, 6, 7, 8]\n"
          ],
          "name": "stdout"
        }
      ]
    },
    {
      "cell_type": "markdown",
      "metadata": {
        "id": "4xgIKv0OwXxT",
        "colab_type": "text"
      },
      "source": [
        "Numpy makes things much easier however, and we can use syntax that might be more intuitive, and/or familiar, if you've used MATLAB or other such tools before."
      ]
    },
    {
      "cell_type": "code",
      "metadata": {
        "id": "t8hPLHe_wHVa",
        "colab_type": "code",
        "colab": {
          "base_uri": "https://localhost:8080/",
          "height": 51
        },
        "outputId": "8c333ca8-b9c8-4fd8-84d0-3d9f404e2ebb"
      },
      "source": [
        "import numpy as np\n",
        "product_numpy = np.array(a)*np.array(b)\n",
        "sum_numpy = np.array(a) + 4\n",
        "print('The product array is:',product_numpy)\n",
        "print('The sum array is:',sum_numpy)"
      ],
      "execution_count": null,
      "outputs": [
        {
          "output_type": "stream",
          "text": [
            "The product array is: [ 2  8 18 32]\n",
            "The sum array is: [5 6 7 8]\n"
          ],
          "name": "stdout"
        }
      ]
    },
    {
      "cell_type": "markdown",
      "metadata": {
        "id": "vw6WwKCjwb6K",
        "colab_type": "text"
      },
      "source": [
        "With this in mind, let's go to work on our dataset. Let's help ourselves by defining a variable called `invT` that is inverse absolute temperture, and redefining `k` as a numpy list. Otherwise, we'd end up with unwieldy looking expressions like\n",
        " `slope = (((1/(np.array(T)+273.15))*(np.log(k))).mean() - ((1/(np.array(T)+273.15)).mean()*(np.log(k).mean())))/(.....)`\n",
        "\n"
      ]
    },
    {
      "cell_type": "code",
      "metadata": {
        "id": "JxDyUusw1DLk",
        "colab_type": "code",
        "colab": {}
      },
      "source": [
        "invT = 1/(np.array(T) + 273.15)\n",
        "k = np.array(k)"
      ],
      "execution_count": null,
      "outputs": []
    },
    {
      "cell_type": "code",
      "metadata": {
        "id": "cmIJggHFwYs2",
        "colab_type": "code",
        "colab": {
          "base_uri": "https://localhost:8080/",
          "height": 34
        },
        "outputId": "3e7377f2-dee4-456d-8768-68e8548918dd"
      },
      "source": [
        "slope = ((invT*np.log(k)).mean() - (invT.mean()*np.log(k).mean()))/( (invT**2).mean() - (invT.mean())**2)\n",
        "slope\n",
        " "
      ],
      "execution_count": null,
      "outputs": [
        {
          "output_type": "execute_result",
          "data": {
            "text/plain": [
              "-8594.480772567294"
            ]
          },
          "metadata": {
            "tags": []
          },
          "execution_count": 358
        }
      ]
    },
    {
      "cell_type": "code",
      "metadata": {
        "id": "_gd6-78R1Wb-",
        "colab_type": "code",
        "colab": {
          "base_uri": "https://localhost:8080/",
          "height": 34
        },
        "outputId": "2269eab8-01f0-4e39-9267-3345b5f79534"
      },
      "source": [
        "Ea = -R*slope\n",
        "print('The activation energy, in kJ/mol is:','{0:1.3f}'.format(Ea/1000))"
      ],
      "execution_count": null,
      "outputs": [
        {
          "output_type": "stream",
          "text": [
            "The activation energy, in kJ/mol is: 71.455\n"
          ],
          "name": "stdout"
        }
      ]
    },
    {
      "cell_type": "code",
      "metadata": {
        "id": "Fomd2Xeu2ynK",
        "colab_type": "code",
        "colab": {}
      },
      "source": [
        ""
      ],
      "execution_count": null,
      "outputs": []
    },
    {
      "cell_type": "markdown",
      "metadata": {
        "id": "TdlaWpPF3P42",
        "colab_type": "text"
      },
      "source": [
        "Another way to accomplish the above is to use the `linregress` function from the statistics package of SciPy"
      ]
    },
    {
      "cell_type": "code",
      "metadata": {
        "id": "MChOPBYb3l7e",
        "colab_type": "code",
        "colab": {
          "base_uri": "https://localhost:8080/",
          "height": 34
        },
        "outputId": "9f2cd70c-bff7-4f09-e74e-9690fe21a811"
      },
      "source": [
        "from scipy.stats import linregress\n",
        "slope2,intercept,pval,rval,err = linregress(invT,np.log(k))\n",
        "Ea2 = -R*slope2\n",
        "print('The activation energy, in kJ/mol is:','{0:1.3f}'.format(Ea2/1000))"
      ],
      "execution_count": null,
      "outputs": [
        {
          "output_type": "stream",
          "text": [
            "The activation energy, in kJ/mol is: 71.455\n"
          ],
          "name": "stdout"
        }
      ]
    },
    {
      "cell_type": "markdown",
      "metadata": {
        "id": "_HPijRVi3-3C",
        "colab_type": "text"
      },
      "source": [
        "If I needed to do this routinely, i.e. take a list of temperatures in deg C, and a list of associated rate constants, and extract the activation energy, I could write a short function to do so, in the following manner. I added here a `np.array(k)` just in case `k` is in original Python list form, even though at this point in our scrpt executaion, we know it is already a numpy array."
      ]
    },
    {
      "cell_type": "code",
      "metadata": {
        "id": "V8pWs0t84K40",
        "colab_type": "code",
        "colab": {
          "base_uri": "https://localhost:8080/",
          "height": 51
        },
        "outputId": "91accb37-2ed3-415e-9f3e-14077e65e825"
      },
      "source": [
        "def solve_activation(temps,rates):\n",
        "  invT = 1/(np.array(temps) + 273.15)\n",
        "  logk = np.log(np.array(k))\n",
        "  slope,intercept,p,r,err = linregress(invT,logk)\n",
        "  Ea = -8.314*slope\n",
        "  return Ea,intercept\n",
        "\n",
        "Ea3,intercept = solve_activation(T,k)\n",
        "k0 = np.exp(intercept)\n",
        "print('The activation energy, in kJ/mol is:','{0:1.3f}'.format(Ea3/1000))\n",
        "print('k_0 is :','{0:1.3f}'.format(k0))\n"
      ],
      "execution_count": null,
      "outputs": [
        {
          "output_type": "stream",
          "text": [
            "The activation energy, in kJ/mol is: 71.455\n",
            "k_0 is : 6.679\n"
          ],
          "name": "stdout"
        }
      ]
    },
    {
      "cell_type": "markdown",
      "metadata": {
        "id": "KDrYS60Xd9lZ",
        "colab_type": "text"
      },
      "source": [
        "Now that we know the activation energy, we can calculate the expected rate constant"
      ]
    },
    {
      "cell_type": "code",
      "metadata": {
        "id": "F2iCOTo95r3r",
        "colab_type": "code",
        "colab": {}
      },
      "source": [
        "temps = np.linspace(330,440,num=20)\n",
        "invtemps = 1/(temps+273.15)\n",
        "k_calculated = k0*np.exp(-Ea3*invtemps/R)"
      ],
      "execution_count": null,
      "outputs": []
    },
    {
      "cell_type": "code",
      "metadata": {
        "id": "qrt1ZTwve9m4",
        "colab_type": "code",
        "colab": {
          "base_uri": "https://localhost:8080/",
          "height": 487
        },
        "outputId": "a2f1a64a-8e6b-43dc-98a8-9363389c01b9"
      },
      "source": [
        "fig4, ax4 = plt.subplots(figsize=(8,5),dpi=100, facecolor='w', edgecolor='k')\n",
        "ax4.set_xscale('linear')\n",
        "ax4.set_yscale('linear')\n",
        "#ax4.scatter(1/(np.array(T)+273.15), np.array(np.log(k)),marker=\"s\",s=48,facecolor=\"mediumslateblue\",edgecolor=\"k\",linewidths=1,label=sample_name)\n",
        "ax4.plot(1/(np.array(T)+273.15), np.array(np.log(k)),marker=\"s\",markersize=8,markerfacecolor=\"palevioletred\",markeredgecolor=\"k\",markeredgewidth=1,linestyle='None',label=sample_name)\n",
        "ax4.plot(invtemps,np.log(k_calculated),linestyle='--',label='Calculated from fit')\n",
        "ax4.grid(True, linestyle='-.',linewidth=0.5)\n",
        "ax4.tick_params(direction='in',labelcolor='b', labelsize='small', width=1, which='both')\n",
        "ax4.set_xlabel('1/T ($\\mathbf{K^{-1}}$)',FontSize=14,FontWeight='bold') \n",
        "ax4.set_ylabel('$\\ln\\, k$',FontSize=14,FontWeight='bold')\n",
        "ax4.legend(loc=\"best\")\n",
        "ax4.set_title('Activation Energy Determination',fontsize=16,color='k')\n",
        "ax4.set_xlim(0.0014,0.00165)\n",
        "plt.show()"
      ],
      "execution_count": null,
      "outputs": [
        {
          "output_type": "display_data",
          "data": {
            "image/png": "[encoded data removed]",
            "text/plain": [
              "<Figure size 800x500 with 1 Axes>"
            ]
          },
          "metadata": {
            "tags": []
          }
        }
      ]
    },
    {
      "cell_type": "markdown",
      "metadata": {
        "id": "PSsuHT2x6Mpr",
        "colab_type": "text"
      },
      "source": [
        "\n",
        "\n",
        "---\n",
        "#**6. Looking forward**\n",
        "Here we will start playing around with some of the data for the thermal transport assignment. The first thing we have to do is read the data from the Excel sheet. Here, I've linked to an Excel sheet of the data that is in my Google Drive, rather than hosted on GitHub. In reading the data, I didn't provide column names, so these will be read out automatically by ```pandas```.\n"
      ]
    },
    {
      "cell_type": "code",
      "metadata": {
        "id": "LKFSvYANfhJ9",
        "colab_type": "code",
        "colab": {
          "base_uri": "https://localhost:8080/",
          "height": 855
        },
        "outputId": "3f54f1a2-10b5-4c3f-ac9c-816708c428eb"
      },
      "source": [
        "#heat_data_path=\"/content/drive/My Drive/CBE410/Raw Heat Exchanger Data.xlsx\"\n",
        "heat_data_path_github=\"https://github.com/cbe410/python-data-analysis/raw/master/Raw%20Heat%20Exchanger%20Data.xlsx\"\n",
        "heat_data = pd.read_excel(heat_data_path_github, sheet_name=\"Raw Data\")\n",
        "heat_data"
      ],
      "execution_count": null,
      "outputs": [
        {
          "output_type": "execute_result",
          "data": {
            "text/html": [
              "<div>\n",
              "<style scoped>\n",
              "    .dataframe tbody tr th:only-of-type {\n",
              "        vertical-align: middle;\n",
              "    }\n",
              "\n",
              "    .dataframe tbody tr th {\n",
              "        vertical-align: top;\n",
              "    }\n",
              "\n",
              "    .dataframe thead th {\n",
              "        text-align: right;\n",
              "    }\n",
              "</style>\n",
              "<table border=\"1\" class=\"dataframe\">\n",
              "  <thead>\n",
              "    <tr style=\"text-align: right;\">\n",
              "      <th></th>\n",
              "      <th>Unnamed: 0</th>\n",
              "      <th>Hot Reservoir</th>\n",
              "      <th>Hot in</th>\n",
              "      <th>Hot mid</th>\n",
              "      <th>Hot out</th>\n",
              "      <th>Cold out</th>\n",
              "      <th>Cold mid</th>\n",
              "      <th>Cold in</th>\n",
              "      <th>Hot Flow</th>\n",
              "      <th>Cold Flow</th>\n",
              "    </tr>\n",
              "  </thead>\n",
              "  <tbody>\n",
              "    <tr>\n",
              "      <th>0</th>\n",
              "      <td>Flow</td>\n",
              "      <td>ST-16</td>\n",
              "      <td>ST-1</td>\n",
              "      <td>ST-2</td>\n",
              "      <td>ST-3</td>\n",
              "      <td>ST-4</td>\n",
              "      <td>ST-5</td>\n",
              "      <td>ST-6</td>\n",
              "      <td>SC-1</td>\n",
              "      <td>SC-2</td>\n",
              "    </tr>\n",
              "    <tr>\n",
              "      <th>1</th>\n",
              "      <td>Direction</td>\n",
              "      <td>C</td>\n",
              "      <td>C</td>\n",
              "      <td>C</td>\n",
              "      <td>C</td>\n",
              "      <td>C</td>\n",
              "      <td>C</td>\n",
              "      <td>C</td>\n",
              "      <td>l/min</td>\n",
              "      <td>l/min</td>\n",
              "    </tr>\n",
              "    <tr>\n",
              "      <th>2</th>\n",
              "      <td>Counter-Current</td>\n",
              "      <td>44.9</td>\n",
              "      <td>41</td>\n",
              "      <td>39.7</td>\n",
              "      <td>38.6</td>\n",
              "      <td>31.4</td>\n",
              "      <td>29.9</td>\n",
              "      <td>29.5</td>\n",
              "      <td>1.4</td>\n",
              "      <td>2.2</td>\n",
              "    </tr>\n",
              "    <tr>\n",
              "      <th>3</th>\n",
              "      <td>Counter-Current</td>\n",
              "      <td>49.8</td>\n",
              "      <td>45.4</td>\n",
              "      <td>43.3</td>\n",
              "      <td>41.8</td>\n",
              "      <td>32.1</td>\n",
              "      <td>30.2</td>\n",
              "      <td>29.5</td>\n",
              "      <td>1.4</td>\n",
              "      <td>2.2</td>\n",
              "    </tr>\n",
              "    <tr>\n",
              "      <th>4</th>\n",
              "      <td>Counter-Current</td>\n",
              "      <td>54.6</td>\n",
              "      <td>49.4</td>\n",
              "      <td>46.8</td>\n",
              "      <td>44.8</td>\n",
              "      <td>32.8</td>\n",
              "      <td>30.5</td>\n",
              "      <td>29.5</td>\n",
              "      <td>1.4</td>\n",
              "      <td>2.2</td>\n",
              "    </tr>\n",
              "    <tr>\n",
              "      <th>5</th>\n",
              "      <td>Counter-Current</td>\n",
              "      <td>59.7</td>\n",
              "      <td>54.1</td>\n",
              "      <td>50.6</td>\n",
              "      <td>48.2</td>\n",
              "      <td>33.7</td>\n",
              "      <td>31</td>\n",
              "      <td>29.5</td>\n",
              "      <td>1.4</td>\n",
              "      <td>2.2</td>\n",
              "    </tr>\n",
              "    <tr>\n",
              "      <th>6</th>\n",
              "      <td>Counter-Current</td>\n",
              "      <td>59.7</td>\n",
              "      <td>53.8</td>\n",
              "      <td>49.2</td>\n",
              "      <td>47.7</td>\n",
              "      <td>33.2</td>\n",
              "      <td>30.6</td>\n",
              "      <td>29.5</td>\n",
              "      <td>1</td>\n",
              "      <td>2.2</td>\n",
              "    </tr>\n",
              "    <tr>\n",
              "      <th>7</th>\n",
              "      <td>Counter-Current</td>\n",
              "      <td>59.9</td>\n",
              "      <td>54.1</td>\n",
              "      <td>50.2</td>\n",
              "      <td>48.1</td>\n",
              "      <td>33.5</td>\n",
              "      <td>30.8</td>\n",
              "      <td>29.5</td>\n",
              "      <td>1.2</td>\n",
              "      <td>2.2</td>\n",
              "    </tr>\n",
              "    <tr>\n",
              "      <th>8</th>\n",
              "      <td>Counter-Current</td>\n",
              "      <td>59.4</td>\n",
              "      <td>54.3</td>\n",
              "      <td>50.8</td>\n",
              "      <td>48.3</td>\n",
              "      <td>33.8</td>\n",
              "      <td>30.9</td>\n",
              "      <td>29.5</td>\n",
              "      <td>1.4</td>\n",
              "      <td>2.2</td>\n",
              "    </tr>\n",
              "    <tr>\n",
              "      <th>9</th>\n",
              "      <td>Counter-Current</td>\n",
              "      <td>59.9</td>\n",
              "      <td>54.4</td>\n",
              "      <td>50.9</td>\n",
              "      <td>48.5</td>\n",
              "      <td>34</td>\n",
              "      <td>31.1</td>\n",
              "      <td>29.4</td>\n",
              "      <td>1.4</td>\n",
              "      <td>2</td>\n",
              "    </tr>\n",
              "    <tr>\n",
              "      <th>10</th>\n",
              "      <td>Counter-Current</td>\n",
              "      <td>59.9</td>\n",
              "      <td>54.4</td>\n",
              "      <td>51.1</td>\n",
              "      <td>48.6</td>\n",
              "      <td>34.5</td>\n",
              "      <td>31.3</td>\n",
              "      <td>29.4</td>\n",
              "      <td>1.4</td>\n",
              "      <td>1.8</td>\n",
              "    </tr>\n",
              "    <tr>\n",
              "      <th>11</th>\n",
              "      <td>Counter-Current</td>\n",
              "      <td>59.5</td>\n",
              "      <td>54.1</td>\n",
              "      <td>50.5</td>\n",
              "      <td>48.1</td>\n",
              "      <td>33.4</td>\n",
              "      <td>30.8</td>\n",
              "      <td>29.6</td>\n",
              "      <td>1.4</td>\n",
              "      <td>2.4</td>\n",
              "    </tr>\n",
              "    <tr>\n",
              "      <th>12</th>\n",
              "      <td>Counter-Current</td>\n",
              "      <td>59.4</td>\n",
              "      <td>54.1</td>\n",
              "      <td>50.5</td>\n",
              "      <td>48.1</td>\n",
              "      <td>33.3</td>\n",
              "      <td>30.7</td>\n",
              "      <td>29.6</td>\n",
              "      <td>1.4</td>\n",
              "      <td>2.7</td>\n",
              "    </tr>\n",
              "    <tr>\n",
              "      <th>13</th>\n",
              "      <td>Parallel</td>\n",
              "      <td>44.8</td>\n",
              "      <td>41.3</td>\n",
              "      <td>39.8</td>\n",
              "      <td>39</td>\n",
              "      <td>29.6</td>\n",
              "      <td>30</td>\n",
              "      <td>31.3</td>\n",
              "      <td>1.4</td>\n",
              "      <td>2.2</td>\n",
              "    </tr>\n",
              "    <tr>\n",
              "      <th>14</th>\n",
              "      <td>Parallel</td>\n",
              "      <td>50</td>\n",
              "      <td>45.7</td>\n",
              "      <td>43.5</td>\n",
              "      <td>42.2</td>\n",
              "      <td>29.8</td>\n",
              "      <td>30.6</td>\n",
              "      <td>32.2</td>\n",
              "      <td>1.4</td>\n",
              "      <td>2.2</td>\n",
              "    </tr>\n",
              "    <tr>\n",
              "      <th>15</th>\n",
              "      <td>Parallel</td>\n",
              "      <td>54.8</td>\n",
              "      <td>49.1</td>\n",
              "      <td>46.4</td>\n",
              "      <td>44.7</td>\n",
              "      <td>29.8</td>\n",
              "      <td>31</td>\n",
              "      <td>32.8</td>\n",
              "      <td>1.4</td>\n",
              "      <td>2.2</td>\n",
              "    </tr>\n",
              "    <tr>\n",
              "      <th>16</th>\n",
              "      <td>Parallel</td>\n",
              "      <td>59.5</td>\n",
              "      <td>53.9</td>\n",
              "      <td>50.3</td>\n",
              "      <td>48.1</td>\n",
              "      <td>29.9</td>\n",
              "      <td>31.6</td>\n",
              "      <td>33.7</td>\n",
              "      <td>1.3</td>\n",
              "      <td>2.2</td>\n",
              "    </tr>\n",
              "    <tr>\n",
              "      <th>17</th>\n",
              "      <td>Parallel</td>\n",
              "      <td>59.7</td>\n",
              "      <td>54</td>\n",
              "      <td>49.6</td>\n",
              "      <td>48.2</td>\n",
              "      <td>29.9</td>\n",
              "      <td>31.4</td>\n",
              "      <td>33.4</td>\n",
              "      <td>1.2</td>\n",
              "      <td>2.2</td>\n",
              "    </tr>\n",
              "    <tr>\n",
              "      <th>18</th>\n",
              "      <td>Parallel</td>\n",
              "      <td>59.5</td>\n",
              "      <td>54.1</td>\n",
              "      <td>50.3</td>\n",
              "      <td>48.4</td>\n",
              "      <td>29.9</td>\n",
              "      <td>31.6</td>\n",
              "      <td>33.6</td>\n",
              "      <td>1.3</td>\n",
              "      <td>2.2</td>\n",
              "    </tr>\n",
              "    <tr>\n",
              "      <th>19</th>\n",
              "      <td>Parallel</td>\n",
              "      <td>59.6</td>\n",
              "      <td>54.3</td>\n",
              "      <td>50.6</td>\n",
              "      <td>48.5</td>\n",
              "      <td>29.8</td>\n",
              "      <td>31.6</td>\n",
              "      <td>33.7</td>\n",
              "      <td>1.4</td>\n",
              "      <td>2.2</td>\n",
              "    </tr>\n",
              "    <tr>\n",
              "      <th>20</th>\n",
              "      <td>Parallel</td>\n",
              "      <td>59.9</td>\n",
              "      <td>54.4</td>\n",
              "      <td>50.7</td>\n",
              "      <td>48.8</td>\n",
              "      <td>29.8</td>\n",
              "      <td>31.8</td>\n",
              "      <td>34</td>\n",
              "      <td>1.4</td>\n",
              "      <td>2</td>\n",
              "    </tr>\n",
              "    <tr>\n",
              "      <th>21</th>\n",
              "      <td>Parallel</td>\n",
              "      <td>59.9</td>\n",
              "      <td>54.4</td>\n",
              "      <td>50.9</td>\n",
              "      <td>49</td>\n",
              "      <td>29.9</td>\n",
              "      <td>32.3</td>\n",
              "      <td>34.5</td>\n",
              "      <td>1.4</td>\n",
              "      <td>1.8</td>\n",
              "    </tr>\n",
              "    <tr>\n",
              "      <th>22</th>\n",
              "      <td>Parallel</td>\n",
              "      <td>59.7</td>\n",
              "      <td>54.3</td>\n",
              "      <td>50.5</td>\n",
              "      <td>48.4</td>\n",
              "      <td>30.1</td>\n",
              "      <td>31.5</td>\n",
              "      <td>33.5</td>\n",
              "      <td>1.4</td>\n",
              "      <td>2.5</td>\n",
              "    </tr>\n",
              "    <tr>\n",
              "      <th>23</th>\n",
              "      <td>Parallel</td>\n",
              "      <td>59.5</td>\n",
              "      <td>54.2</td>\n",
              "      <td>50.3</td>\n",
              "      <td>48.2</td>\n",
              "      <td>30</td>\n",
              "      <td>31.4</td>\n",
              "      <td>33.3</td>\n",
              "      <td>1.4</td>\n",
              "      <td>2.7</td>\n",
              "    </tr>\n",
              "    <tr>\n",
              "      <th>24</th>\n",
              "      <td>NaN</td>\n",
              "      <td>NaN</td>\n",
              "      <td>NaN</td>\n",
              "      <td>NaN</td>\n",
              "      <td>NaN</td>\n",
              "      <td>NaN</td>\n",
              "      <td>NaN</td>\n",
              "      <td>NaN</td>\n",
              "      <td>NaN</td>\n",
              "      <td>NaN</td>\n",
              "    </tr>\n",
              "    <tr>\n",
              "      <th>25</th>\n",
              "      <td>Error</td>\n",
              "      <td>0.1</td>\n",
              "      <td>0.1</td>\n",
              "      <td>0.1</td>\n",
              "      <td>0.1</td>\n",
              "      <td>0.1</td>\n",
              "      <td>0.1</td>\n",
              "      <td>0.1</td>\n",
              "      <td>0.1</td>\n",
              "      <td>0.1</td>\n",
              "    </tr>\n",
              "  </tbody>\n",
              "</table>\n",
              "</div>"
            ],
            "text/plain": [
              "         Unnamed: 0 Hot Reservoir Hot in  ... Cold in Hot Flow Cold Flow\n",
              "0              Flow         ST-16   ST-1  ...    ST-6     SC-1      SC-2\n",
              "1         Direction             C      C  ...       C    l/min     l/min\n",
              "2   Counter-Current          44.9     41  ...    29.5      1.4       2.2\n",
              "3   Counter-Current          49.8   45.4  ...    29.5      1.4       2.2\n",
              "4   Counter-Current          54.6   49.4  ...    29.5      1.4       2.2\n",
              "5   Counter-Current          59.7   54.1  ...    29.5      1.4       2.2\n",
              "6   Counter-Current          59.7   53.8  ...    29.5        1       2.2\n",
              "7   Counter-Current          59.9   54.1  ...    29.5      1.2       2.2\n",
              "8   Counter-Current          59.4   54.3  ...    29.5      1.4       2.2\n",
              "9   Counter-Current          59.9   54.4  ...    29.4      1.4         2\n",
              "10  Counter-Current          59.9   54.4  ...    29.4      1.4       1.8\n",
              "11  Counter-Current          59.5   54.1  ...    29.6      1.4       2.4\n",
              "12  Counter-Current          59.4   54.1  ...    29.6      1.4       2.7\n",
              "13         Parallel          44.8   41.3  ...    31.3      1.4       2.2\n",
              "14         Parallel            50   45.7  ...    32.2      1.4       2.2\n",
              "15         Parallel          54.8   49.1  ...    32.8      1.4       2.2\n",
              "16         Parallel          59.5   53.9  ...    33.7      1.3       2.2\n",
              "17         Parallel          59.7     54  ...    33.4      1.2       2.2\n",
              "18         Parallel          59.5   54.1  ...    33.6      1.3       2.2\n",
              "19         Parallel          59.6   54.3  ...    33.7      1.4       2.2\n",
              "20         Parallel          59.9   54.4  ...      34      1.4         2\n",
              "21         Parallel          59.9   54.4  ...    34.5      1.4       1.8\n",
              "22         Parallel          59.7   54.3  ...    33.5      1.4       2.5\n",
              "23         Parallel          59.5   54.2  ...    33.3      1.4       2.7\n",
              "24              NaN           NaN    NaN  ...     NaN      NaN       NaN\n",
              "25            Error           0.1    0.1  ...     0.1      0.1       0.1\n",
              "\n",
              "[26 rows x 10 columns]"
            ]
          },
          "metadata": {
            "tags": []
          },
          "execution_count": 364
        }
      ]
    },
    {
      "cell_type": "code",
      "metadata": {
        "id": "KmAxVFeCAKO6",
        "colab_type": "code",
        "colab": {
          "base_uri": "https://localhost:8080/",
          "height": 68
        },
        "outputId": "40b998a9-ab0f-41f3-ae97-6df3dcecd796"
      },
      "source": [
        "print(heat_data.columns)"
      ],
      "execution_count": null,
      "outputs": [
        {
          "output_type": "stream",
          "text": [
            "Index(['Unnamed: 0', 'Hot Reservoir', 'Hot in', 'Hot mid', 'Hot out',\n",
            "       'Cold out', 'Cold mid', 'Cold in', 'Hot Flow', 'Cold Flow'],\n",
            "      dtype='object')\n"
          ],
          "name": "stdout"
        }
      ]
    },
    {
      "cell_type": "code",
      "metadata": {
        "id": "FM90EZ6D8HYB",
        "colab_type": "code",
        "colab": {
          "base_uri": "https://localhost:8080/",
          "height": 425
        },
        "outputId": "9fa24aaa-0b14-4da4-e2f0-f33783e74354"
      },
      "source": [
        "heat_data.keys()\n",
        "heat_data[\"Hot Reservoir\"][1:-2]"
      ],
      "execution_count": null,
      "outputs": [
        {
          "output_type": "execute_result",
          "data": {
            "text/plain": [
              "1        C\n",
              "2     44.9\n",
              "3     49.8\n",
              "4     54.6\n",
              "5     59.7\n",
              "6     59.7\n",
              "7     59.9\n",
              "8     59.4\n",
              "9     59.9\n",
              "10    59.9\n",
              "11    59.5\n",
              "12    59.4\n",
              "13    44.8\n",
              "14      50\n",
              "15    54.8\n",
              "16    59.5\n",
              "17    59.7\n",
              "18    59.5\n",
              "19    59.6\n",
              "20    59.9\n",
              "21    59.9\n",
              "22    59.7\n",
              "23    59.5\n",
              "Name: Hot Reservoir, dtype: object"
            ]
          },
          "metadata": {
            "tags": []
          },
          "execution_count": 366
        }
      ]
    }
  ]
}